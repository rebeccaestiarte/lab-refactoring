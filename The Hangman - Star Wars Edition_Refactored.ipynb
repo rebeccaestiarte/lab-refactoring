{
 "cells": [
  {
   "cell_type": "markdown",
   "metadata": {},
   "source": [
    "# THE HANGMEN - STAR WARS EDITION "
   ]
  },
  {
   "cell_type": "markdown",
   "metadata": {},
   "source": [
    "## Introduction & Rules ##"
   ]
  },
  {
   "cell_type": "code",
   "execution_count": 9,
   "metadata": {
    "scrolled": false
   },
   "outputs": [
    {
     "name": "stdout",
     "output_type": "stream",
     "text": [
      "Insert your name:  hola\n",
      "Hello Jedi hola . Welcome to the Hangman, Star Wars Edition!\n",
      "You will be shown a set of blank letters that match a quote from the Star Wars original saga.\n",
      "You can guess the phrase by entering one letter at the time.\n",
      "If you pick right, you will have inflicted a strike to the empire's death star.\n",
      "The chosen letter will then be revealed from the blanks. Every time you pick a letter that is not in the quote, the empire will hit the rebel fleet.\n"
     ]
    }
   ],
   "source": [
    "def greeding_and_instructions():\n",
    "    \n",
    "    name = input(\"Insert your name:  \")\n",
    "    \n",
    "    print (\"Hello Jedi\", name, \". Welcome to the Hangman, Star Wars Edition!\")\n",
    "    print (\"You will be shown a set of blank letters that match a quote from the Star Wars original saga.\")\n",
    "    print(\"You can guess the phrase by entering one letter at the time.\")\n",
    "    print(\"If you pick right, you will have inflicted a strike to the empire's death star.\")\n",
    "    print(\"The chosen letter will then be revealed from the blanks. Every time you pick a letter that is not in the quote, the empire will hit the rebel fleet.\")\n",
    "\n",
    "\n",
    "greeding_and_instructions()"
   ]
  },
  {
   "cell_type": "code",
   "execution_count": 27,
   "metadata": {
    "scrolled": true
   },
   "outputs": [
    {
     "name": "stdout",
     "output_type": "stream",
     "text": [
      "First, choose the level. Enter E for easy, M for medium and H for hard: m\n",
      "You have 15 attempts\n",
      "Time to start! May the force be with you...\n"
     ]
    },
    {
     "data": {
      "text/plain": [
       "15"
      ]
     },
     "execution_count": 27,
     "metadata": {},
     "output_type": "execute_result"
    }
   ],
   "source": [
    "possible_levels =[\"h\", \"m\", \"e\"]\n",
    "\n",
    "def ask_level_game():\n",
    "    \n",
    "    level = input(\"First, choose the level. Enter E for easy, M for medium and H for hard: \")\n",
    "\n",
    "    while level not in possible_levels:\n",
    "        print (\"Please insert E for easy, M for medium and H for hard.\")\n",
    "        level = input(\"First, choose the level. Enter E for easy, M for medium and H for hard: \")\n",
    "    \n",
    "    return level\n",
    "\n",
    "test = ask_level_game()\n",
    "\n",
    "def translate_l2a(key):\n",
    "    \n",
    "    level_to_attempts = { \n",
    "                         \"e\"  : 20,\n",
    "                         \"m\"  : 15,\n",
    "                         \"h\"  : 10,\n",
    "                        }\n",
    "\n",
    "    \n",
    "    print (\"You have\", level_to_attempts[key], \"attempts\")\n",
    "    print(\"Time to start! May the force be with you...\")\n",
    "    \n",
    "    return level_to_attempts[key]\n",
    "    \n",
    "\n",
    "translate_l2a(test)\n",
    "\n",
    "star_wars_quotes =  [\"May the force be with you\",\"I am your father\", \n",
    "                     \"Do or do not. There is no try\", \n",
    "                     \"There is no such thing as luck\", \n",
    "                    \"Your focus determines your reality\"]\n",
    "\n",
    "#COULD BE COOL TO USE API - IF NO TIME, IMPORT DATABASE\n",
    "\n",
    "\n",
    "\n",
    "\n",
    "\n",
    "\n",
    "\n",
    "\n",
    "\n",
    "\n"
   ]
  },
  {
   "cell_type": "code",
   "execution_count": 22,
   "metadata": {},
   "outputs": [
    {
     "name": "stdout",
     "output_type": "stream",
     "text": [
      "First, choose the level. Enter E for easy, M for medium and H for hard: m\n"
     ]
    }
   ],
   "source": [
    "possible_levels =[\"h\", \"m\", \"e\"]\n",
    "\n",
    "def ask_level_game():\n",
    "    \n",
    "    level = input(\"First, choose the level. Enter E for easy, M for medium and H for hard: \")\n",
    "\n",
    "    while level not in possible_levels:\n",
    "        print (\"Please insert E for easy, M for medium and H for hard.\")\n",
    "        level = input(\"First, choose the level. Enter E for easy, M for medium and H for hard: \")\n",
    "    \n",
    "    return level\n",
    "\n",
    "test = ask_level_game()"
   ]
  },
  {
   "cell_type": "code",
   "execution_count": 23,
   "metadata": {},
   "outputs": [
    {
     "data": {
      "text/plain": [
       "15"
      ]
     },
     "execution_count": 23,
     "metadata": {},
     "output_type": "execute_result"
    }
   ],
   "source": [
    "def translate_l2a(key):\n",
    "    \n",
    "    level_to_attempts = { \n",
    "                         \"e\"  : 20,\n",
    "                         \"m\"  : 15,\n",
    "                         \"h\"  : 10,\n",
    "                        }\n",
    "\n",
    "    return level_to_attempts[key]\n",
    "\n",
    "translate_l2a(test)"
   ]
  },
  {
   "cell_type": "markdown",
   "metadata": {},
   "source": [
    "_The game greeds the user and introduce the rules and instructions:_"
   ]
  },
  {
   "cell_type": "markdown",
   "metadata": {},
   "source": [
    "## Level Selection ##"
   ]
  },
  {
   "cell_type": "markdown",
   "metadata": {},
   "source": [
    "_The user is asked to insert a level. Depending on the input, he will have different attempts (easy = 20 attempts; medium = 15 attempts; hard = 10 attempts_"
   ]
  },
  {
   "cell_type": "code",
   "execution_count": 17,
   "metadata": {
    "scrolled": true
   },
   "outputs": [
    {
     "name": "stdout",
     "output_type": "stream",
     "text": [
      "First, choose the level. Enter E for easy, M for medium and H for hard: d\n",
      "Please insert E for easy, M for medium and H for hard.\n",
      "First, choose the level. Enter E for easy, M for medium and H for hard: e\n"
     ]
    }
   ],
   "source": [
    "level_game = input(\"First, choose the level. Enter E for easy, M for medium and H for hard: \")\n",
    "\n",
    "levels =[\"h\", \"m\", \"e\"]\n",
    "if level_game.lower() == \"e\":\n",
    "    attempts = 20 \n",
    "    print (\"You have 20 attempts\")\n",
    "    print(\"Time to start! May the force be with you...\")\n",
    "elif level_game.lower() == \"m\":\n",
    "    attempts = 15\n",
    "    print (\"You have 15 attempts\")\n",
    "    print(\"Time to start! May the force be with you...\")\n",
    "elif level_game.lower() == \"h\":\n",
    "    attempts = 10\n",
    "    print (\"You have 10 attempts\")\n",
    "    print(\"Time to start! May the force be with you...\")\n",
    "else:\n",
    "    while level_game.lower() not in levels:\n",
    "        print (\"Please insert E for easy, M for medium and H for hard.\")\n",
    "        level_game = input(\"First, choose the level. Enter E for easy, M for medium and H for hard: \")"
   ]
  },
  {
   "cell_type": "markdown",
   "metadata": {},
   "source": [
    "_The program takes a quote randomly from the list \"star_wars_quotes\" and breaks the string into a list to be able to iterate the elements in it._"
   ]
  },
  {
   "cell_type": "markdown",
   "metadata": {},
   "source": [
    "## Puzzle ##"
   ]
  },
  {
   "cell_type": "markdown",
   "metadata": {},
   "source": [
    "_The program creates a sequence of blanks correspending to the letters in the quote._"
   ]
  },
  {
   "cell_type": "code",
   "execution_count": 12,
   "metadata": {},
   "outputs": [],
   "source": [
    "star_wars_quotes = [\"May the force be with you\",\"I am your father\", \"Do or do not. There is no try\", \"There is no such thing as luck\", \"Your focus determines your reality\"]"
   ]
  },
  {
   "cell_type": "code",
   "execution_count": 13,
   "metadata": {},
   "outputs": [],
   "source": [
    "import random\n",
    "\n",
    "solution = random.choice(star_wars_quotes).lower()\n",
    "breaked_solution = list(solution)"
   ]
  },
  {
   "cell_type": "code",
   "execution_count": 7,
   "metadata": {},
   "outputs": [
    {
     "name": "stdout",
     "output_type": "stream",
     "text": [
      "_ _ _ _ _   _ _   _ _   _ _ _ _   _ _ _ _ _   _ _   _ _ _ _\n"
     ]
    }
   ],
   "source": [
    "possible_inputs = \"abcdefghijklmnopqrstuvywxz\"\n",
    "puzzle = []\n",
    "for i in breaked_solution: \n",
    "    if i in possible_inputs:\n",
    "        puzzle.append(\"_\")\n",
    "    else:\n",
    "        puzzle.append(i)\n",
    "puzzle_in_string = ' '.join(puzzle)\n",
    "print(puzzle_in_string)"
   ]
  },
  {
   "cell_type": "markdown",
   "metadata": {},
   "source": [
    "## The Game ##"
   ]
  },
  {
   "cell_type": "markdown",
   "metadata": {},
   "source": [
    "_The program is creating a dictionary to associate a letter (value) in the quote with a key (index). It follows a function that retreves the index given a letter._\n",
    "\n",
    "_The Program will now run the game: as long as the user has makes less attempts than allowed without getting to the solution, the program will keep asking him to guess a letter. When he gets to the solution, the user wins. Otherwise, the user lose._"
   ]
  },
  {
   "cell_type": "code",
   "execution_count": 14,
   "metadata": {},
   "outputs": [
    {
     "name": "stdout",
     "output_type": "stream",
     "text": [
      "Guess a letter: 2\n",
      "You have entered more than one letter and/or a character not allowed\n",
      "Guess a letter: hola\n",
      "You have entered more than one letter and/or a character not allowed\n"
     ]
    },
    {
     "ename": "KeyboardInterrupt",
     "evalue": "",
     "output_type": "error",
     "traceback": [
      "\u001b[0;31m---------------------------------------------------------------------------\u001b[0m",
      "\u001b[0;31mKeyboardInterrupt\u001b[0m                         Traceback (most recent call last)",
      "\u001b[0;32m/usr/local/Cellar/jupyterlab/1.2.4/libexec/lib/python3.7/site-packages/ipykernel/kernelbase.py\u001b[0m in \u001b[0;36m_input_request\u001b[0;34m(self, prompt, ident, parent, password)\u001b[0m\n\u001b[1;32m    883\u001b[0m             \u001b[0;32mtry\u001b[0m\u001b[0;34m:\u001b[0m\u001b[0;34m\u001b[0m\u001b[0;34m\u001b[0m\u001b[0m\n\u001b[0;32m--> 884\u001b[0;31m                 \u001b[0mident\u001b[0m\u001b[0;34m,\u001b[0m \u001b[0mreply\u001b[0m \u001b[0;34m=\u001b[0m \u001b[0mself\u001b[0m\u001b[0;34m.\u001b[0m\u001b[0msession\u001b[0m\u001b[0;34m.\u001b[0m\u001b[0mrecv\u001b[0m\u001b[0;34m(\u001b[0m\u001b[0mself\u001b[0m\u001b[0;34m.\u001b[0m\u001b[0mstdin_socket\u001b[0m\u001b[0;34m,\u001b[0m \u001b[0;36m0\u001b[0m\u001b[0;34m)\u001b[0m\u001b[0;34m\u001b[0m\u001b[0;34m\u001b[0m\u001b[0m\n\u001b[0m\u001b[1;32m    885\u001b[0m             \u001b[0;32mexcept\u001b[0m \u001b[0mException\u001b[0m\u001b[0;34m:\u001b[0m\u001b[0;34m\u001b[0m\u001b[0;34m\u001b[0m\u001b[0m\n",
      "\u001b[0;32m/usr/local/Cellar/jupyterlab/1.2.4/libexec/lib/python3.7/site-packages/jupyter_client/session.py\u001b[0m in \u001b[0;36mrecv\u001b[0;34m(self, socket, mode, content, copy)\u001b[0m\n\u001b[1;32m    802\u001b[0m         \u001b[0;32mtry\u001b[0m\u001b[0;34m:\u001b[0m\u001b[0;34m\u001b[0m\u001b[0;34m\u001b[0m\u001b[0m\n\u001b[0;32m--> 803\u001b[0;31m             \u001b[0mmsg_list\u001b[0m \u001b[0;34m=\u001b[0m \u001b[0msocket\u001b[0m\u001b[0;34m.\u001b[0m\u001b[0mrecv_multipart\u001b[0m\u001b[0;34m(\u001b[0m\u001b[0mmode\u001b[0m\u001b[0;34m,\u001b[0m \u001b[0mcopy\u001b[0m\u001b[0;34m=\u001b[0m\u001b[0mcopy\u001b[0m\u001b[0;34m)\u001b[0m\u001b[0;34m\u001b[0m\u001b[0;34m\u001b[0m\u001b[0m\n\u001b[0m\u001b[1;32m    804\u001b[0m         \u001b[0;32mexcept\u001b[0m \u001b[0mzmq\u001b[0m\u001b[0;34m.\u001b[0m\u001b[0mZMQError\u001b[0m \u001b[0;32mas\u001b[0m \u001b[0me\u001b[0m\u001b[0;34m:\u001b[0m\u001b[0;34m\u001b[0m\u001b[0;34m\u001b[0m\u001b[0m\n",
      "\u001b[0;32m/usr/local/Cellar/jupyterlab/1.2.4/libexec/lib/python3.7/site-packages/zmq/sugar/socket.py\u001b[0m in \u001b[0;36mrecv_multipart\u001b[0;34m(self, flags, copy, track)\u001b[0m\n\u001b[1;32m    474\u001b[0m         \"\"\"\n\u001b[0;32m--> 475\u001b[0;31m         \u001b[0mparts\u001b[0m \u001b[0;34m=\u001b[0m \u001b[0;34m[\u001b[0m\u001b[0mself\u001b[0m\u001b[0;34m.\u001b[0m\u001b[0mrecv\u001b[0m\u001b[0;34m(\u001b[0m\u001b[0mflags\u001b[0m\u001b[0;34m,\u001b[0m \u001b[0mcopy\u001b[0m\u001b[0;34m=\u001b[0m\u001b[0mcopy\u001b[0m\u001b[0;34m,\u001b[0m \u001b[0mtrack\u001b[0m\u001b[0;34m=\u001b[0m\u001b[0mtrack\u001b[0m\u001b[0;34m)\u001b[0m\u001b[0;34m]\u001b[0m\u001b[0;34m\u001b[0m\u001b[0;34m\u001b[0m\u001b[0m\n\u001b[0m\u001b[1;32m    476\u001b[0m         \u001b[0;31m# have first part already, only loop while more to receive\u001b[0m\u001b[0;34m\u001b[0m\u001b[0;34m\u001b[0m\u001b[0;34m\u001b[0m\u001b[0m\n",
      "\u001b[0;32mzmq/backend/cython/socket.pyx\u001b[0m in \u001b[0;36mzmq.backend.cython.socket.Socket.recv\u001b[0;34m()\u001b[0m\n",
      "\u001b[0;32mzmq/backend/cython/socket.pyx\u001b[0m in \u001b[0;36mzmq.backend.cython.socket.Socket.recv\u001b[0;34m()\u001b[0m\n",
      "\u001b[0;32mzmq/backend/cython/socket.pyx\u001b[0m in \u001b[0;36mzmq.backend.cython.socket._recv_copy\u001b[0;34m()\u001b[0m\n",
      "\u001b[0;32m/usr/local/Cellar/jupyterlab/1.2.4/libexec/lib/python3.7/site-packages/zmq/backend/cython/checkrc.pxd\u001b[0m in \u001b[0;36mzmq.backend.cython.checkrc._check_rc\u001b[0;34m()\u001b[0m\n",
      "\u001b[0;31mKeyboardInterrupt\u001b[0m: ",
      "\nDuring handling of the above exception, another exception occurred:\n",
      "\u001b[0;31mKeyboardInterrupt\u001b[0m                         Traceback (most recent call last)",
      "\u001b[0;32m<ipython-input-14-471b304014c7>\u001b[0m in \u001b[0;36m<module>\u001b[0;34m\u001b[0m\n\u001b[1;32m     15\u001b[0m \u001b[0;32mwhile\u001b[0m \u001b[0mattempts_counter\u001b[0m \u001b[0;34m>\u001b[0m \u001b[0;36m0\u001b[0m \u001b[0;32mand\u001b[0m \u001b[0mpuzzle_in_string\u001b[0m \u001b[0;34m!=\u001b[0m \u001b[0msolution\u001b[0m\u001b[0;34m:\u001b[0m\u001b[0;34m\u001b[0m\u001b[0;34m\u001b[0m\u001b[0m\n\u001b[1;32m     16\u001b[0m     \u001b[0mattempts_counter\u001b[0m \u001b[0;34m=\u001b[0m \u001b[0mattempts_counter\u001b[0m \u001b[0;34m-\u001b[0m \u001b[0;36m1\u001b[0m\u001b[0;34m\u001b[0m\u001b[0;34m\u001b[0m\u001b[0m\n\u001b[0;32m---> 17\u001b[0;31m     \u001b[0mletter_guess\u001b[0m \u001b[0;34m=\u001b[0m \u001b[0minput\u001b[0m\u001b[0;34m(\u001b[0m\u001b[0;34m\"Guess a letter: \"\u001b[0m\u001b[0;34m)\u001b[0m\u001b[0;34m.\u001b[0m\u001b[0mlower\u001b[0m\u001b[0;34m(\u001b[0m\u001b[0;34m)\u001b[0m\u001b[0;34m\u001b[0m\u001b[0;34m\u001b[0m\u001b[0m\n\u001b[0m\u001b[1;32m     18\u001b[0m     \u001b[0;32mif\u001b[0m \u001b[0mlen\u001b[0m\u001b[0;34m(\u001b[0m\u001b[0mletter_guess\u001b[0m\u001b[0;34m)\u001b[0m \u001b[0;34m==\u001b[0m \u001b[0;36m1\u001b[0m \u001b[0;32mand\u001b[0m \u001b[0mletter_guess\u001b[0m \u001b[0;32min\u001b[0m \u001b[0mpossible_inputs\u001b[0m\u001b[0;34m:\u001b[0m\u001b[0;34m\u001b[0m\u001b[0;34m\u001b[0m\u001b[0m\n\u001b[1;32m     19\u001b[0m         \u001b[0mindex_of_letter\u001b[0m \u001b[0;34m=\u001b[0m \u001b[0mget_index\u001b[0m\u001b[0;34m(\u001b[0m\u001b[0;34m(\u001b[0m\u001b[0mletter_guess\u001b[0m\u001b[0;34m)\u001b[0m\u001b[0;34m)\u001b[0m\u001b[0;34m\u001b[0m\u001b[0;34m\u001b[0m\u001b[0m\n",
      "\u001b[0;32m/usr/local/Cellar/jupyterlab/1.2.4/libexec/lib/python3.7/site-packages/ipykernel/kernelbase.py\u001b[0m in \u001b[0;36mraw_input\u001b[0;34m(self, prompt)\u001b[0m\n\u001b[1;32m    857\u001b[0m             \u001b[0mself\u001b[0m\u001b[0;34m.\u001b[0m\u001b[0m_parent_ident\u001b[0m\u001b[0;34m,\u001b[0m\u001b[0;34m\u001b[0m\u001b[0;34m\u001b[0m\u001b[0m\n\u001b[1;32m    858\u001b[0m             \u001b[0mself\u001b[0m\u001b[0;34m.\u001b[0m\u001b[0m_parent_header\u001b[0m\u001b[0;34m,\u001b[0m\u001b[0;34m\u001b[0m\u001b[0;34m\u001b[0m\u001b[0m\n\u001b[0;32m--> 859\u001b[0;31m             \u001b[0mpassword\u001b[0m\u001b[0;34m=\u001b[0m\u001b[0;32mFalse\u001b[0m\u001b[0;34m,\u001b[0m\u001b[0;34m\u001b[0m\u001b[0;34m\u001b[0m\u001b[0m\n\u001b[0m\u001b[1;32m    860\u001b[0m         )\n\u001b[1;32m    861\u001b[0m \u001b[0;34m\u001b[0m\u001b[0m\n",
      "\u001b[0;32m/usr/local/Cellar/jupyterlab/1.2.4/libexec/lib/python3.7/site-packages/ipykernel/kernelbase.py\u001b[0m in \u001b[0;36m_input_request\u001b[0;34m(self, prompt, ident, parent, password)\u001b[0m\n\u001b[1;32m    887\u001b[0m             \u001b[0;32mexcept\u001b[0m \u001b[0mKeyboardInterrupt\u001b[0m\u001b[0;34m:\u001b[0m\u001b[0;34m\u001b[0m\u001b[0;34m\u001b[0m\u001b[0m\n\u001b[1;32m    888\u001b[0m                 \u001b[0;31m# re-raise KeyboardInterrupt, to truncate traceback\u001b[0m\u001b[0;34m\u001b[0m\u001b[0;34m\u001b[0m\u001b[0;34m\u001b[0m\u001b[0m\n\u001b[0;32m--> 889\u001b[0;31m                 \u001b[0;32mraise\u001b[0m \u001b[0mKeyboardInterrupt\u001b[0m\u001b[0;34m\u001b[0m\u001b[0;34m\u001b[0m\u001b[0m\n\u001b[0m\u001b[1;32m    890\u001b[0m             \u001b[0;32melse\u001b[0m\u001b[0;34m:\u001b[0m\u001b[0;34m\u001b[0m\u001b[0;34m\u001b[0m\u001b[0m\n\u001b[1;32m    891\u001b[0m                 \u001b[0;32mbreak\u001b[0m\u001b[0;34m\u001b[0m\u001b[0;34m\u001b[0m\u001b[0m\n",
      "\u001b[0;31mKeyboardInterrupt\u001b[0m: "
     ]
    }
   ],
   "source": [
    "test_dict = {}\n",
    "a = 0\n",
    "for i in breaked_solution:\n",
    "    a=a+1\n",
    "    test_dict[a-1] = i\n",
    "\n",
    "def get_index(letter_guess):\n",
    "    pos =[]\n",
    "    for key, value in test_dict.items(): \n",
    "         if letter_guess == value: \n",
    "                pos.append(key)\n",
    "    return pos\n",
    "\n",
    "attempts_counter = attempts \n",
    "while attempts_counter > 0 and puzzle_in_string != solution:\n",
    "    attempts_counter = attempts_counter - 1\n",
    "    letter_guess = input(\"Guess a letter: \").lower()\n",
    "    if len(letter_guess) == 1 and letter_guess in possible_inputs:\n",
    "        index_of_letter = get_index((letter_guess))\n",
    "        for i in index_of_letter:\n",
    "            puzzle[i] = letter_guess\n",
    "\n",
    "        puzzle_in_string = ''.join(puzzle) \n",
    "        print(puzzle_in_string)  \n",
    "    else: \n",
    "        print(\"You have entered more than one letter and/or a character not allowed\")\n",
    "    \n",
    "    if puzzle_in_string == solution:\n",
    "        print(\"Congratulation Jedi\", your_name, \"you destroyed the Death Star. The Empire has fallen!\") #IMPROVE \n",
    "    \n",
    "if attempts_counter  == 0 and puzzle_in_string != solution:     \n",
    "    print (\"Your strikes are over Jedi\", your_name ,\". The Empire arises!\") \n",
    "    print (\"The solution was:\", solution)"
   ]
  },
  {
   "cell_type": "code",
   "execution_count": null,
   "metadata": {},
   "outputs": [],
   "source": []
  },
  {
   "cell_type": "code",
   "execution_count": null,
   "metadata": {},
   "outputs": [],
   "source": []
  }
 ],
 "metadata": {
  "kernelspec": {
   "display_name": "Python 3",
   "language": "python",
   "name": "python3"
  },
  "language_info": {
   "codemirror_mode": {
    "name": "ipython",
    "version": 3
   },
   "file_extension": ".py",
   "mimetype": "text/x-python",
   "name": "python",
   "nbconvert_exporter": "python",
   "pygments_lexer": "ipython3",
   "version": "3.8.1"
  }
 },
 "nbformat": 4,
 "nbformat_minor": 2
}
